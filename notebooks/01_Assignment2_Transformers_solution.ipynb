{
 "cells": [
  {
   "cell_type": "markdown",
   "metadata": {},
   "source": [
    "![alternatvie text](https://www.doc.zuv.fau.de//M/FAU-Logo/01_FAU_Kernmarke/Web/FAU_Kernmarke_Q_RGB_blue.svg)\n"
   ]
  },
  {
   "attachments": {},
   "cell_type": "markdown",
   "metadata": {},
   "source": [
    "# Assignment 2: Visual Transformers\n",
    "<center><img src=\"https://production-media.paperswithcode.com/methods/Screen_Shot_2021-01-26_at_9.43.31_PM_uI4jjMq.png\" alt=\"Alternative text\"/></center> \n",
    "<center><figcaption>Fig 1. Dosovitskiy, Alexey, et al. \"An image is worth 16x16 words: Transformers for image recognition at scale.\"https://arxiv.org/pdf/2010.11929.pdf. </figcaption></center>                 \n",
    "\n",
    "\n",
    "In the lecture, transformers have been studied in the context of sequence-to-sequence modelling applications like natural language processing (NLP). Their superior performance to LSTM-based Recurrant neural network gained them a powerful reputation, thanks to their ability to model long sequences. A couple of years ago, transformers have been adapted to the [visual domain](https://arxiv.org/abs/2010.11929) and suprisingly demonstrated better performance compared to the long standing convolutional neural networks conditioned to large-scale datasets. Thanks to their ability to capture global semantic relationships in an image, unlike, CNNs which capture local information within the vicinty of the convolutional kernel window.\n",
    "\n",
    "In this assignment, you'll be asked first to implement the building blocks of visual transformers (LightViT). Afterwards, you'll train them on classification task using MNIST and Fashion-MNIST datasets.\n"
   ]
  },
  {
   "cell_type": "code",
   "execution_count": 7,
   "metadata": {},
   "outputs": [],
   "source": [
    "import torch\n",
    "import torch.nn as nn\n",
    "\n",
    "class LightViT(nn.Module):\n",
    "  def __init__(self,image_dim, n_patches=7, n_blocks=2, d=8, n_heads=2, num_classes=10):\n",
    "    super(LightViT, self).__init__()\n",
    "    \n",
    "    ## Class Members\n",
    "    self.n_patches = n_patches\n",
    "    patch_dim = image_dim // n_patches\n",
    "    self.patch_dim = patch_dim\n",
    "    ## 1B) Linear Mapping\n",
    "    self.linear_map = nn.Linear(patch_dim * patch_dim,d)\n",
    "    ## 2A) Learnable Parameter\n",
    "    self.cls_token = nn.Parameter(torch.zeros(1,1,d))\n",
    "    ## 2B) Positional embedding\n",
    "    self.pos_embed = nn.Parameter(torch.zeros(1,n_patches * n_patches + 1,d));\n",
    "    ## 3) Encoder blocks\n",
    "    encoder_layer = nn.TransformerEncoderLayer(d_model=d,nhead=n_heads,batch_first=True)\n",
    "    self.encoder = nn.TransformerEncoder(encoder_layer,num_layers=n_blocks)\n",
    "    # 5) Classification Head\n",
    "    self.classifier = nn.Linear(d,num_classes)\n",
    "  \n",
    "  def forward(self, images):\n",
    "     batch_size = images.shape[0]\n",
    "    ## Extract patches\n",
    "     patches = images.unfold(2, self.patch_dim, self.patch_dim).unfold(3,self.patch_dim, self.patch_dim)\n",
    "     patches = patches.contiguous().view(batch_size,1,self.n_patches,self.n_patches,self.patch_dim * self.patch_dim)\n",
    "     patches = patches.view(batch_size, -1, self.patch_dim * self.patch_dim) \n",
    "    ## Linear mapping\n",
    "     tokens = self.linear_map(patches)\n",
    "    ## Add classification token\n",
    "     cls_token = self.cls_token.expand(batch_size,-1,-1)\n",
    "     tokens = torch.cat((cls_token,tokens),dim=1) \n",
    "    ## Add positional embeddings\n",
    "     tokens = tokens + self.pos_embed\n",
    "    ## Pass through encoder\n",
    "     encoded = self.encoder(tokens)\n",
    "    ## Get classification token\n",
    "     cls_out = encoded[:,0,:]\n",
    "    ## Pass through classifier\n",
    "     out = self.classifier(cls_out)\n",
    "\n",
    "     return out"
   ]
  },
  {
   "attachments": {},
   "cell_type": "markdown",
   "metadata": {},
   "source": [
    "## 1. Image Patches and Linear Mapping\n",
    "\n",
    "### A) Image Patches\n",
    "Transfomers were initially created to process sequential data. In case of images, a sequence can be created through extracting patches. To do so, a crop window should be used with a defined window height and width. The dimension of data is originally in the format of *(B,C,H,W)*, when transorfmed into patches and then flattened we get *(B, PxP, (HxC/P)x(WxC/P))*, where *B* is the batch size and *PxP* is total number of patches in an image. In this example, you can set P=7. \n",
    "\n",
    "\n",
    "*Output*: A function that extracts image patches. The output format should have a shape of (B,49,16). The function will be used inside *LightViT* class."
   ]
  },
  {
   "cell_type": "code",
   "execution_count": 8,
   "metadata": {},
   "outputs": [],
   "source": [
    "def patches(images, n_patches=7):\n",
    "    B, C, H, W = images.shape\n",
    "    patch_h = H // n_patches\n",
    "    patch_w = W // n_patches\n",
    "\n",
    "    patches = images.unfold(2, patch_h, patch_h).unfold(3, patch_w, patch_w)\n",
    "    patches = patches.permute(0, 2, 3, 1, 4, 5)  \n",
    "\n",
    "    patches = patches.reshape(B, n_patches * n_patches, -1)\n",
    "    return patches"
   ]
  },
  {
   "attachments": {},
   "cell_type": "markdown",
   "metadata": {},
   "source": [
    "### B) Linear Mapping\n",
    "\n",
    "Afterwards, the input are mapped using a linear layer to an output with dimension *d* i.e. *(B, PxP, (HxC/P)x(WxC/P))* &rarr; *(B, PxP, d)*. The variable d can be freely chosen, however, we set here to 8. \n",
    "\n",
    "*Output*: A linear layer should be added inside *LightViT* class with the correct input and output dimensions, the output from the linear layer should have a dimension of (B,49,8). "
   ]
  },
  {
   "attachments": {},
   "cell_type": "markdown",
   "metadata": {},
   "source": [
    "## 2. Insert Classifier Token and Positional embeddings\n",
    "\n",
    "### A) Classifier Token"
   ]
  },
  {
   "attachments": {},
   "cell_type": "markdown",
   "metadata": {},
   "source": [
    "Beside the image patches, also known as tokens, an additional special token is appended to the the input to capture desired information about other tokens to learn the task at hand. Lateron, this token will be used as input to the classifier to determine the class of the input image. To add the token to the input is equivilant to concatentating a learnable parameter with a vector of the same dimension *d* to the image tokens. \n",
    "\n",
    "*Output* A randomly initialised learnable parameter to be implemented inside *LightViT* class. You can use [PyTorch built-in function](https://pytorch.org/docs/stable/generated/torch.nn.parameter.Parameter.html) to create a PyTorch parameter."
   ]
  },
  {
   "attachments": {},
   "cell_type": "markdown",
   "metadata": {},
   "source": [
    "### B) Positional Embedding\n",
    "\n",
    "To preserve the context of an image, positional embeddings are associated with each image patch. Positional embeddings encodes the patch positions using sinusoidal waves, however, there are other techniques. We follow the definition of positional encoding in the original transformer paper of [Vaswani et. al](https://arxiv.org/abs/1706.03762), which sinusoidal waves. You'll be required to implement a function that creates embeddings for each coordinate of every image patch. "
   ]
  },
  {
   "attachments": {},
   "cell_type": "markdown",
   "metadata": {},
   "source": [
    "*Output* Inside *LightViT* class, implement a function that fetches the embedding and encapuslate it inside a non-learnable parameter."
   ]
  },
  {
   "cell_type": "code",
   "execution_count": 3,
   "metadata": {},
   "outputs": [],
   "source": [
    "def get_pos_embeddings(self, seq_len, d):\n",
    "    pos = torch.arange(seq_len, dtype=torch.float).unsqueeze(1)\n",
    "    i = torch.arange(d, dtype=torch.float).unsqueeze(0)\n",
    "    angle_rates = 1 / torch.pow(10000, (2 * (i // 2)) / d)\n",
    "    angle_rads = pos * angle_rates\n",
    "\n",
    "    # apply sin to even indices in the array; cos to odd indices\n",
    "    angle_rads[:, 0::2] = torch.sin(angle_rads[:, 0::2])\n",
    "    angle_rads[:, 1::2] = torch.cos(angle_rads[:, 1::2])\n",
    "\n",
    "    return angle_rads.unsqueeze(0)  # shape (1, seq_len, d)\n"
   ]
  },
  {
   "attachments": {},
   "cell_type": "markdown",
   "metadata": {},
   "source": [
    "## 3. Encoder Block\n",
    "\n",
    "<center><img src=\"https://machinelearningmastery.com/wp-content/uploads/2021/08/attention_research_1.png\" alt=\"Alternative text\" width=\"400\" height=\"500\"/></center> \n",
    "<center><figcaption>Fig 2. Transformer Encoder.\"https://arxiv.org/pdf/2010.11929.pdf. </figcaption></center>  \n",
    "\n",
    "This is the challenging part of the assignment as it will be required from you to implement the main elements of an encoder block. A single block contains layer normalization (LN), multi-head self-attention (MHSA), and a residual connection.  \n",
    "\n",
    "### A) Layer Normalization\n",
    "[Layer normailzation](https://arxiv.org/abs/1607.06450), similar to other techniques, normalizes an input across the layer dimension by subtracting mean and dividing by standard deviation. You can instantiate layer normalization which has a dimension *d* using [PyTorch built-in function](https://pytorch.org/docs/stable/generated/torch.nn.LayerNorm.html).\n",
    "### B) MHSA\n",
    "<center><img src=\"https://production-media.paperswithcode.com/methods/multi-head-attention_l1A3G7a.png\" alt=\"Alternative text\" width=\"300\" height=\"400\"/></center> \n",
    "<center><figcaption>Fig 2. Multi-Head Self Attention.\"https://arxiv.org/pdf/1706.03762v5.pdf. </figcaption></center>  \n",
    "  \n",
    " The attention module derives an attention value by measuring similarity between one patch and the other patches. To this end, an image patch with dimension *d* is linearly mapped to three vectors; query **q**, key **k**, and value **v** , hence a distint linear layer should be instantiated to get each of the three vectors. To quantify attention for a single patch, first, the dot product is computed between its **q** and all of the **k** vectors and divide by the square root of the vector dimension i.e. *d* = 8. The result is passed through a softmax layer to get *attention features* and finally multiple with **v** vectors associated with each of the **k** vectors and sum up to get the result. This allows to get an attention vector for each patch by measuring its similarity with other patches.\n",
    " \n",
    "  Note that this process should be repeated **N** times on each of the **H** sub-vectors of the 8-dimensional patch, where **N** is the total number of attention blocks. In our case, let **N** = 2, hence, we have 2 sub-vectors, each of length 4. The first sub-vector is processed by the first head and the second sub-vector is process by the second head, each head has distinct Q,K, and V mapping functions of size 4x4. \n",
    " \n",
    " For more information about MHSA, you may refer to this [post](https://data-science-blog.com/blog/2021/04/07/multi-head-attention-mechanism/).\n",
    " \n",
    " It is highly recommended to define a seperate class for MHSA as it contains several operations.\n",
    "\n"
   ]
  },
  {
   "cell_type": "code",
   "execution_count": 9,
   "metadata": {},
   "outputs": [],
   "source": [
    "import torch\n",
    "import torch.nn as nn\n",
    "import torch.nn.functional as F\n",
    "\n",
    "class MHSA(nn.Module):\n",
    "    def __init__(self, d, n_heads=2):\n",
    "        super(MHSA, self).__init__()\n",
    "        assert d % n_heads == 0, \"Embedding dimension must be divisible by number of heads\"\n",
    "\n",
    "        self.d = d\n",
    "        self.n_heads = n_heads\n",
    "        self.head_dim = d // n_heads\n",
    "\n",
    "        # Linear layers for Q, K, V (each maps d -> d)\n",
    "        self.q_proj = nn.Linear(d, d)\n",
    "        self.k_proj = nn.Linear(d, d)\n",
    "        self.v_proj = nn.Linear(d, d)\n",
    "\n",
    "        # Final linear layer to combine heads\n",
    "        self.out_proj = nn.Linear(d, d)\n",
    "\n",
    "    def forward(self, sequences):\n",
    "        # sequences: (B, seq_len, d)\n",
    "        B, seq_len, _ = sequences.size()\n",
    "\n",
    "        # Project input to Q, K, V\n",
    "        Q = self.q_proj(sequences)  # (B, seq_len, d)\n",
    "        K = self.k_proj(sequences)\n",
    "        V = self.v_proj(sequences)\n",
    "\n",
    "        # Split each Q/K/V into multiple heads\n",
    "        Q = Q.view(B, seq_len, self.n_heads, self.head_dim).transpose(1, 2)  # (B, n_heads, seq_len, head_dim)\n",
    "        K = K.view(B, seq_len, self.n_heads, self.head_dim).transpose(1, 2)\n",
    "        V = V.view(B, seq_len, self.n_heads, self.head_dim).transpose(1, 2)\n",
    "\n",
    "        # Scaled dot-product attention\n",
    "        attn_scores = torch.matmul(Q, K.transpose(-2, -1)) / (self.head_dim ** 0.5)  # (B, n_heads, seq_len, seq_len)\n",
    "        attn_weights = F.softmax(attn_scores, dim=-1)\n",
    "        attn_output = torch.matmul(attn_weights, V)  # (B, n_heads, seq_len, head_dim)\n",
    "\n",
    "        # Concatenate heads\n",
    "        attn_output = attn_output.transpose(1, 2).contiguous().view(B, seq_len, self.d)  # (B, seq_len, d)\n",
    "\n",
    "        # Final projection\n",
    "        return self.out_proj(attn_output)  # (B, seq_len, d)\n"
   ]
  },
  {
   "attachments": {},
   "cell_type": "markdown",
   "metadata": {},
   "source": [
    "### C) Residual Connection\n",
    "\n",
    "Residual connections (also know as skip connections) add the original input to the processed output by a network layer e.g. encoder. They have proven to be useful in deep neural networks as they mitigate problems like exploding / vanishing gradients. In transformer, the residual connection is adding the original input to the output from LN &rarr; MHSA. All of the previous operations could be implemented inside a seperate encoder class.\n",
    "\n",
    "The last part of an encoder, is to a inser another residual connection between the input to the encoder and the output from the encoder passed through another layer of LN &rarr; MLP. The MLP consists of 2 layers with hidden size 4 times larger than *d*."
   ]
  },
  {
   "attachments": {},
   "cell_type": "markdown",
   "metadata": {},
   "source": [
    "*output*: The output from a single encoder block should have the same dimension as input."
   ]
  },
  {
   "cell_type": "code",
   "execution_count": 10,
   "metadata": {},
   "outputs": [],
   "source": [
    "import torch\n",
    "import torch.nn as nn\n",
    "\n",
    "class ViTEncoder(nn.Module):\n",
    "    def __init__(self, hidden_d, n_heads):\n",
    "        super(ViTEncoder, self).__init__()\n",
    "        self.hidden_d = hidden_d\n",
    "        self.n_heads = n_heads\n",
    "\n",
    "        self.norm1 = nn.LayerNorm(hidden_d)\n",
    "        self.mhsa = MHSA(hidden_d, n_heads)\n",
    "        self.norm2 = nn.LayerNorm(hidden_d)\n",
    "        \n",
    "        self.mlp = nn.Sequential(\n",
    "            nn.Linear(hidden_d, 4 * hidden_d),\n",
    "            nn.GELU(),\n",
    "            nn.Linear(4 * hidden_d, hidden_d)\n",
    "        )\n",
    "\n",
    "    def forward(self, x):\n",
    "        # First residual connection: x + MHSA(norm1(x))\n",
    "        out = x + self.mhsa(self.norm1(x))\n",
    "\n",
    "        # Second residual connection: out + MLP(norm2(out))\n",
    "        out = out + self.mlp(self.norm2(out))\n",
    "        \n",
    "        return out\n"
   ]
  },
  {
   "attachments": {},
   "cell_type": "markdown",
   "metadata": {},
   "source": [
    "### C) Test Encoder\n",
    "It is highly recommended to test the encoder with a tensor of random values as input."
   ]
  },
  {
   "cell_type": "code",
   "execution_count": 11,
   "metadata": {},
   "outputs": [
    {
     "name": "stdout",
     "output_type": "stream",
     "text": [
      "torch.Size([7, 50, 8])\n"
     ]
    }
   ],
   "source": [
    "if __name__ == '__main__':\n",
    "  model = ViTEncoder(hidden_d=8, n_heads=2)\n",
    "\n",
    "  x = torch.randn(7, 50, 8)  \n",
    "  print(model(x).shape)"
   ]
  },
  {
   "attachments": {},
   "cell_type": "markdown",
   "metadata": {},
   "source": [
    "## 4. Classification Head"
   ]
  },
  {
   "attachments": {},
   "cell_type": "markdown",
   "metadata": {},
   "source": [
    "The final part of implemeting a transformer is adding a classification head to the model inside *LightViT* class. You can simply use a linear classifier i.e. a linear layer that accepts input of dimension *d* and outputs logits with dimension set to the number of classes for the classification problem at hand."
   ]
  },
  {
   "attachments": {},
   "cell_type": "markdown",
   "metadata": {},
   "source": [
    "## 5a. Model Train for MNIST"
   ]
  },
  {
   "attachments": {},
   "cell_type": "markdown",
   "metadata": {},
   "source": [
    "At this point you have completed the major challenge of the assignment. Now all you need to do is to implement a standard script for training and testing the model. We recommend to use Adam optimizer with 0.005 learning rate and train for 5 epochs."
   ]
  },
  {
   "cell_type": "code",
   "execution_count": 12,
   "metadata": {},
   "outputs": [
    {
     "name": "stdout",
     "output_type": "stream",
     "text": [
      "\n",
      "Epoch 1\n",
      "Train Loss: 1.5398\n",
      "Test Accuracy: 61.13%\n",
      "\n",
      "Epoch 2\n",
      "Train Loss: 0.9842\n",
      "Test Accuracy: 74.52%\n",
      "\n",
      "Epoch 3\n",
      "Train Loss: 0.7624\n",
      "Test Accuracy: 84.26%\n",
      "\n",
      "Epoch 4\n",
      "Train Loss: 0.6544\n",
      "Test Accuracy: 87.14%\n",
      "\n",
      "Epoch 5\n",
      "Train Loss: 0.5855\n",
      "Test Accuracy: 87.90%\n"
     ]
    }
   ],
   "source": [
    "from torch import nn, optim\n",
    "from torchvision import datasets, transforms\n",
    "from torch.utils.data import DataLoader\n",
    "import torch.nn.functional as F\n",
    "\n",
    "# --- LightViT class must already be implemented before this block ---\n",
    "\n",
    "# Hyperparameters\n",
    "BATCH_SIZE = 64\n",
    "EPOCHS = 5\n",
    "LR = 0.005\n",
    "NUM_CLASSES = 10\n",
    "PATCH_SIZE = 7  # Since MNIST is 28x28 → 4x4 patches = 7x7 = 49 patches\n",
    "EMBED_DIM = 8\n",
    "\n",
    "# 1. Define Dataloader\n",
    "transform = transforms.Compose([\n",
    "    transforms.ToTensor(),\n",
    "    transforms.Normalize((0.1307,), (0.3081,))  # MNIST mean & std\n",
    "])\n",
    "\n",
    "train_dataset = datasets.MNIST(root='./data', train=True, download=True, transform=transform)\n",
    "test_dataset  = datasets.MNIST(root='./data', train=False, download=True, transform=transform)\n",
    "\n",
    "train_loader = DataLoader(train_dataset, batch_size=BATCH_SIZE, shuffle=True)\n",
    "test_loader  = DataLoader(test_dataset, batch_size=BATCH_SIZE, shuffle=False)\n",
    "\n",
    "# 2. Define Model\n",
    "device = torch.device(\"cuda\" if torch.cuda.is_available() else \"cpu\")\n",
    "model = LightViT(image_dim=28, n_patches=PATCH_SIZE, d=EMBED_DIM, num_classes=NUM_CLASSES)\n",
    "model.to(device)\n",
    "\n",
    "# 3. Define Optimizer\n",
    "optimizer = optim.Adam(model.parameters(), lr=LR)\n",
    "\n",
    "# 4. Define Loss\n",
    "criterion = nn.CrossEntropyLoss()\n",
    "\n",
    "# 5. Train\n",
    "def train(model, loader):\n",
    "    model.train()\n",
    "    total_loss = 0\n",
    "    for x, y in loader:\n",
    "        x, y = x.to(device), y.to(device)\n",
    "        optimizer.zero_grad()\n",
    "        outputs = model(x)\n",
    "        loss = criterion(outputs, y)\n",
    "        loss.backward()\n",
    "        optimizer.step()\n",
    "        total_loss += loss.item()\n",
    "    print(f\"Train Loss: {total_loss / len(loader):.4f}\")\n",
    "\n",
    "# 6. Test\n",
    "def test(model, loader):\n",
    "    model.eval()\n",
    "    correct = 0\n",
    "    total = 0\n",
    "    with torch.no_grad():\n",
    "        for x, y in loader:\n",
    "            x, y = x.to(device), y.to(device)\n",
    "            outputs = model(x)\n",
    "            preds = outputs.argmax(dim=1)\n",
    "            correct += (preds == y).sum().item()\n",
    "            total += y.size(0)\n",
    "    acc = correct / total * 100\n",
    "    print(f\"Test Accuracy: {acc:.2f}%\")\n",
    "\n",
    "# 7. Run training loop\n",
    "for epoch in range(1, EPOCHS + 1):\n",
    "    print(f\"\\nEpoch {epoch}\")\n",
    "    train(model, train_loader)\n",
    "    test(model, test_loader)\n"
   ]
  },
  {
   "cell_type": "markdown",
   "metadata": {},
   "source": [
    "## 5b. Model Training for FashionMNIST\n",
    "For this task you may reuse the LightViT transformer that you already implemented before. Plot the accuracies for various learning rates of $0.01,0.001,0.0001$ and select the best performing model."
   ]
  },
  {
   "cell_type": "code",
   "execution_count": 13,
   "metadata": {},
   "outputs": [
    {
     "name": "stdout",
     "output_type": "stream",
     "text": [
      "\n",
      "Training with Learning Rate: 0.01\n",
      "LR: 0.01 Epoch [1/5] Train Acc: 47.15% Test Acc: 66.06%\n",
      "LR: 0.01 Epoch [2/5] Train Acc: 67.08% Test Acc: 73.19%\n",
      "LR: 0.01 Epoch [3/5] Train Acc: 71.95% Test Acc: 75.52%\n",
      "LR: 0.01 Epoch [4/5] Train Acc: 74.20% Test Acc: 77.49%\n",
      "LR: 0.01 Epoch [5/5] Train Acc: 75.77% Test Acc: 78.70%\n",
      "\n",
      "Training with Learning Rate: 0.001\n",
      "LR: 0.001 Epoch [1/5] Train Acc: 45.27% Test Acc: 65.00%\n",
      "LR: 0.001 Epoch [2/5] Train Acc: 63.14% Test Acc: 71.33%\n",
      "LR: 0.001 Epoch [3/5] Train Acc: 68.26% Test Acc: 73.93%\n",
      "LR: 0.001 Epoch [4/5] Train Acc: 70.84% Test Acc: 76.30%\n",
      "LR: 0.001 Epoch [5/5] Train Acc: 73.06% Test Acc: 75.92%\n",
      "\n",
      "Training with Learning Rate: 0.0001\n",
      "LR: 0.0001 Epoch [1/5] Train Acc: 20.26% Test Acc: 36.59%\n",
      "LR: 0.0001 Epoch [2/5] Train Acc: 44.52% Test Acc: 54.87%\n",
      "LR: 0.0001 Epoch [3/5] Train Acc: 53.74% Test Acc: 61.82%\n",
      "LR: 0.0001 Epoch [4/5] Train Acc: 58.63% Test Acc: 64.82%\n",
      "LR: 0.0001 Epoch [5/5] Train Acc: 61.05% Test Acc: 66.95%\n"
     ]
    },
    {
     "data": {
      "image/png": "[encoded data removed]",
      "text/plain": [
       "<Figure size 1200x600 with 1 Axes>"
      ]
     },
     "metadata": {},
     "output_type": "display_data"
    }
   ],
   "source": [
    "import torch\n",
    "import torch.nn as nn\n",
    "import torch.optim as optim\n",
    "from torchvision import datasets, transforms\n",
    "from torch.utils.data import DataLoader\n",
    "import matplotlib.pyplot as plt\n",
    "\n",
    "# 1. Dataloader (FashionMNIST)\n",
    "transform = transforms.Compose([\n",
    "    transforms.ToTensor()\n",
    "])\n",
    "\n",
    "batch_size = 64\n",
    "\n",
    "train_dataset = datasets.FashionMNIST(root='./data', train=True, transform=transform, download=True)\n",
    "test_dataset = datasets.FashionMNIST(root='./data', train=False, transform=transform, download=True)\n",
    "\n",
    "train_loader = DataLoader(train_dataset, batch_size=batch_size, shuffle=True)\n",
    "test_loader = DataLoader(test_dataset, batch_size=batch_size, shuffle=False)\n",
    "\n",
    "# 2. Training Function\n",
    "def train_and_test_model(lr):\n",
    "    device = torch.device('cuda' if torch.cuda.is_available() else 'cpu')\n",
    "    model = LightViT(image_dim=28, n_patches=7, n_blocks=2, d=8, n_heads=2, num_classes=10)\n",
    "    model = model.to(device)\n",
    "\n",
    "    optimizer = optim.Adam(model.parameters(), lr=lr)\n",
    "    criterion = nn.CrossEntropyLoss()\n",
    "\n",
    "    n_epochs = 5\n",
    "    train_accuracies = []\n",
    "    test_accuracies = []\n",
    "\n",
    "    for epoch in range(n_epochs):\n",
    "        # Training Phase\n",
    "        model.train()\n",
    "        correct = 0\n",
    "        total = 0\n",
    "        for images, labels in train_loader:\n",
    "            images, labels = images.to(device), labels.to(device)\n",
    "\n",
    "            optimizer.zero_grad()\n",
    "            outputs = model(images)\n",
    "            loss = criterion(outputs, labels)\n",
    "\n",
    "            loss.backward()\n",
    "            optimizer.step()\n",
    "\n",
    "            _, predicted = outputs.max(1)\n",
    "            total += labels.size(0)\n",
    "            correct += predicted.eq(labels).sum().item()\n",
    "\n",
    "        train_accuracy = 100. * correct / total\n",
    "        train_accuracies.append(train_accuracy)\n",
    "\n",
    "        # Testing Phase\n",
    "        model.eval()\n",
    "        correct = 0\n",
    "        total = 0\n",
    "        with torch.no_grad():\n",
    "            for images, labels in test_loader:\n",
    "                images, labels = images.to(device), labels.to(device)\n",
    "\n",
    "                outputs = model(images)\n",
    "                _, predicted = outputs.max(1)\n",
    "                total += labels.size(0)\n",
    "                correct += predicted.eq(labels).sum().item()\n",
    "\n",
    "        test_accuracy = 100. * correct / total\n",
    "        test_accuracies.append(test_accuracy)\n",
    "\n",
    "        print(f'LR: {lr} Epoch [{epoch+1}/{n_epochs}] Train Acc: {train_accuracy:.2f}% Test Acc: {test_accuracy:.2f}%')\n",
    "\n",
    "    return train_accuracies, test_accuracies\n",
    "\n",
    "# 3. Train and Evaluate for Different Learning Rates\n",
    "learning_rates = [0.01, 0.001, 0.0001]\n",
    "results = {}\n",
    "\n",
    "for lr in learning_rates:\n",
    "    print(f'\\nTraining with Learning Rate: {lr}')\n",
    "    train_acc, test_acc = train_and_test_model(lr)\n",
    "    results[lr] = {\n",
    "        'train': train_acc,\n",
    "        'test': test_acc\n",
    "    }\n",
    "\n",
    "# 4. Plot the Accuracies\n",
    "plt.figure(figsize=(12, 6))\n",
    "\n",
    "for lr in learning_rates:\n",
    "    plt.plot(range(1, 6), results[lr]['test'], label=f'LR={lr}')\n",
    "\n",
    "plt.title('Test Accuracy vs Epochs for Different Learning Rates')\n",
    "plt.xlabel('Epoch')\n",
    "plt.ylabel('Test Accuracy (%)')\n",
    "plt.legend()\n",
    "plt.grid()\n",
    "plt.show()"
   ]
  },
  {
   "cell_type": "code",
   "execution_count": null,
   "metadata": {},
   "outputs": [],
   "source": []
  }
 ],
 "metadata": {
  "kernelspec": {
   "display_name": "Python 3 (ipykernel)",
   "language": "python",
   "name": "python3"
  },
  "language_info": {
   "codemirror_mode": {
    "name": "ipython",
    "version": 3
   },
   "file_extension": ".py",
   "mimetype": "text/x-python",
   "name": "python",
   "nbconvert_exporter": "python",
   "pygments_lexer": "ipython3",
   "version": "3.12.7"
  }
 },
 "nbformat": 4,
 "nbformat_minor": 4
}
